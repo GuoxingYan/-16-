{
 "cells": [
  {
   "cell_type": "code",
   "execution_count": null,
   "metadata": {},
   "outputs": [],
   "source": [
    "class LabelSmoothing(nn.Module):\n",
    "\n",
    "    \"Implement label smoothing.\"\n",
    "\n",
    "    def __init__(self, size, padding_idx, smoothing=0.0):\n",
    "\n",
    "        super(LabelSmoothing, self).__init__()\n",
    "\n",
    "        self.criterion = nn.KLDivLoss(size_average=False)\n",
    "\n",
    "        self.padding_idx = padding_idx\n",
    "\n",
    "        self.confidence = 1.0 - smoothing\n",
    "\n",
    "        self.smoothing = smoothing\n",
    "\n",
    "        self.size = size\n",
    "\n",
    "        self.true_dist = None\n",
    "\n",
    "\n",
    "\n",
    "    def forward(self, x, target):\n",
    "\n",
    "        assert x.size(1) == self.size\n",
    "\n",
    "        true_dist = x.data.clone()\n",
    "\n",
    "        true_dist.fill_(self.smoothing / (self.size - 2))\n",
    "\n",
    "        true_dist.scatter_(1, target.data.unsqueeze(1), self.confidence)\n",
    "\n",
    "        true_dist[:, self.padding_idx] = 0\n",
    "\n",
    "        mask = torch.nonzero(target.data == self.padding_idx)\n",
    "\n",
    "        if mask.dim() > 0:\n",
    "\n",
    "            true_dist.index_fill_(0, mask.squeeze(), 0.0)\n",
    "\n",
    "        self.true_dist = true_dist\n",
    "\n",
    "        return self.criterion(x, Variable(true_dist, requires_grad=False))"
   ]
  }
 ],
 "metadata": {
  "kernelspec": {
   "display_name": "Python 2",
   "language": "python",
   "name": "python2"
  },
  "language_info": {
   "codemirror_mode": {
    "name": "ipython",
    "version": 3
   },
   "file_extension": ".py",
   "mimetype": "text/x-python",
   "name": "python",
   "nbconvert_exporter": "python",
   "pygments_lexer": "ipython3",
   "version": "3.5.2"
  }
 },
 "nbformat": 4,
 "nbformat_minor": 2
}
